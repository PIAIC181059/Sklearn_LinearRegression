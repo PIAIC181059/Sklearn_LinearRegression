{
 "cells": [
  {
   "cell_type": "code",
   "execution_count": 2,
   "id": "573791e6",
   "metadata": {},
   "outputs": [],
   "source": [
    "import pandas as pd\n",
    "import numpy as np\n",
    "import matplotlib.pyplot as plt\n",
    "from sklearn.model_selection import train_test_split"
   ]
  },
  {
   "cell_type": "code",
   "execution_count": 3,
   "id": "2023ce67",
   "metadata": {},
   "outputs": [],
   "source": [
    "df = pd.read_csv(\"weight-height.csv\")"
   ]
  },
  {
   "cell_type": "code",
   "execution_count": 4,
   "id": "88f931a6",
   "metadata": {},
   "outputs": [
    {
     "name": "stdout",
     "output_type": "stream",
     "text": [
      "<class 'pandas.core.frame.DataFrame'>\n",
      "RangeIndex: 10000 entries, 0 to 9999\n",
      "Data columns (total 3 columns):\n",
      " #   Column  Non-Null Count  Dtype  \n",
      "---  ------  --------------  -----  \n",
      " 0   Gender  10000 non-null  object \n",
      " 1   Height  10000 non-null  float64\n",
      " 2   Weight  10000 non-null  float64\n",
      "dtypes: float64(2), object(1)\n",
      "memory usage: 234.5+ KB\n"
     ]
    },
    {
     "data": {
      "text/html": [
       "<div>\n",
       "<style scoped>\n",
       "    .dataframe tbody tr th:only-of-type {\n",
       "        vertical-align: middle;\n",
       "    }\n",
       "\n",
       "    .dataframe tbody tr th {\n",
       "        vertical-align: top;\n",
       "    }\n",
       "\n",
       "    .dataframe thead th {\n",
       "        text-align: right;\n",
       "    }\n",
       "</style>\n",
       "<table border=\"1\" class=\"dataframe\">\n",
       "  <thead>\n",
       "    <tr style=\"text-align: right;\">\n",
       "      <th></th>\n",
       "      <th>Height</th>\n",
       "      <th>Weight</th>\n",
       "    </tr>\n",
       "  </thead>\n",
       "  <tbody>\n",
       "    <tr>\n",
       "      <th>count</th>\n",
       "      <td>10000.000000</td>\n",
       "      <td>10000.000000</td>\n",
       "    </tr>\n",
       "    <tr>\n",
       "      <th>mean</th>\n",
       "      <td>66.367560</td>\n",
       "      <td>161.440357</td>\n",
       "    </tr>\n",
       "    <tr>\n",
       "      <th>std</th>\n",
       "      <td>3.847528</td>\n",
       "      <td>32.108439</td>\n",
       "    </tr>\n",
       "    <tr>\n",
       "      <th>min</th>\n",
       "      <td>54.263133</td>\n",
       "      <td>64.700127</td>\n",
       "    </tr>\n",
       "    <tr>\n",
       "      <th>25%</th>\n",
       "      <td>63.505620</td>\n",
       "      <td>135.818051</td>\n",
       "    </tr>\n",
       "    <tr>\n",
       "      <th>50%</th>\n",
       "      <td>66.318070</td>\n",
       "      <td>161.212928</td>\n",
       "    </tr>\n",
       "    <tr>\n",
       "      <th>75%</th>\n",
       "      <td>69.174262</td>\n",
       "      <td>187.169525</td>\n",
       "    </tr>\n",
       "    <tr>\n",
       "      <th>max</th>\n",
       "      <td>78.998742</td>\n",
       "      <td>269.989699</td>\n",
       "    </tr>\n",
       "  </tbody>\n",
       "</table>\n",
       "</div>"
      ],
      "text/plain": [
       "             Height        Weight\n",
       "count  10000.000000  10000.000000\n",
       "mean      66.367560    161.440357\n",
       "std        3.847528     32.108439\n",
       "min       54.263133     64.700127\n",
       "25%       63.505620    135.818051\n",
       "50%       66.318070    161.212928\n",
       "75%       69.174262    187.169525\n",
       "max       78.998742    269.989699"
      ]
     },
     "execution_count": 4,
     "metadata": {},
     "output_type": "execute_result"
    }
   ],
   "source": [
    "df.info()\n",
    "df.describe()"
   ]
  },
  {
   "cell_type": "code",
   "execution_count": 5,
   "id": "c027ffa6",
   "metadata": {},
   "outputs": [
    {
     "name": "stdout",
     "output_type": "stream",
     "text": [
      "(10000,)\n",
      "(10000,)\n"
     ]
    }
   ],
   "source": [
    "X = df.Height.values\n",
    "Y = df.Weight.values\n",
    "\n",
    "print(X.shape)\n",
    "print(Y.shape)"
   ]
  },
  {
   "cell_type": "code",
   "execution_count": 6,
   "id": "d9b0553a",
   "metadata": {},
   "outputs": [
    {
     "name": "stdout",
     "output_type": "stream",
     "text": [
      "[73.84701702 68.78190405 74.11010539 ... 63.86799221 69.03424313\n",
      " 61.94424588]\n"
     ]
    },
    {
     "data": {
      "text/plain": [
       "73.847017017515"
      ]
     },
     "execution_count": 6,
     "metadata": {},
     "output_type": "execute_result"
    }
   ],
   "source": [
    "print(X)\n",
    "X[0]"
   ]
  },
  {
   "cell_type": "code",
   "execution_count": 7,
   "id": "59fef52f",
   "metadata": {},
   "outputs": [
    {
     "name": "stdout",
     "output_type": "stream",
     "text": [
      "[241.89356318 162.31047252 212.74085556 ... 128.47531878 163.85246135\n",
      " 113.64910268]\n"
     ]
    },
    {
     "data": {
      "text/plain": [
       "241.893563180437"
      ]
     },
     "execution_count": 7,
     "metadata": {},
     "output_type": "execute_result"
    }
   ],
   "source": [
    "print(Y)\n",
    "Y[0]"
   ]
  },
  {
   "cell_type": "code",
   "execution_count": 60,
   "id": "66951510",
   "metadata": {},
   "outputs": [
    {
     "data": {
      "text/plain": [
       "array([[73.84701702],\n",
       "       [68.78190405],\n",
       "       [74.11010539],\n",
       "       ...,\n",
       "       [63.86799221],\n",
       "       [69.03424313],\n",
       "       [61.94424588]])"
      ]
     },
     "execution_count": 60,
     "metadata": {},
     "output_type": "execute_result"
    }
   ],
   "source": [
    "x = X.reshape(10000, -1)\n",
    "x"
   ]
  },
  {
   "cell_type": "code",
   "execution_count": 61,
   "id": "d3207d11",
   "metadata": {},
   "outputs": [
    {
     "data": {
      "text/plain": [
       "array([73.84701702])"
      ]
     },
     "execution_count": 61,
     "metadata": {},
     "output_type": "execute_result"
    }
   ],
   "source": [
    "x[0]"
   ]
  },
  {
   "cell_type": "code",
   "execution_count": 62,
   "id": "b0127661",
   "metadata": {},
   "outputs": [
    {
     "name": "stdout",
     "output_type": "stream",
     "text": [
      "(10000, 1)\n",
      "(10000,)\n"
     ]
    }
   ],
   "source": [
    "print(x.shape)\n",
    "print(Y.shape)"
   ]
  },
  {
   "cell_type": "code",
   "execution_count": 63,
   "id": "696187d7",
   "metadata": {},
   "outputs": [
    {
     "data": {
      "text/plain": [
       "241.893563180437"
      ]
     },
     "execution_count": 63,
     "metadata": {},
     "output_type": "execute_result"
    }
   ],
   "source": [
    "Y[0]"
   ]
  },
  {
   "cell_type": "code",
   "execution_count": 64,
   "id": "db686897",
   "metadata": {},
   "outputs": [
    {
     "name": "stdout",
     "output_type": "stream",
     "text": [
      "[[73.84701702]\n",
      " [68.78190405]\n",
      " [74.11010539]\n",
      " ...\n",
      " [63.86799221]\n",
      " [69.03424313]\n",
      " [61.94424588]]\n",
      "[241.89356318 162.31047252 212.74085556 ... 128.47531878 163.85246135\n",
      " 113.64910268]\n"
     ]
    }
   ],
   "source": [
    "print(x)\n",
    "print(Y)"
   ]
  },
  {
   "cell_type": "code",
   "execution_count": 48,
   "id": "fafaa361",
   "metadata": {},
   "outputs": [
    {
     "name": "stdout",
     "output_type": "stream",
     "text": [
      "8000.0\n",
      "2000.0\n"
     ]
    }
   ],
   "source": [
    "print(10000*80/100)\n",
    "print(10000*20/100)"
   ]
  },
  {
   "cell_type": "code",
   "execution_count": 49,
   "id": "6b70b206",
   "metadata": {},
   "outputs": [
    {
     "name": "stdout",
     "output_type": "stream",
     "text": [
      "Training 8000 8000\n",
      "Testing 2000 2000\n"
     ]
    }
   ],
   "source": [
    "X_train, Y_train = x[:8000], Y[:8000]\n",
    "X_test, Y_test = x[8000:], Y[8000:]\n",
    "\n",
    "print(\"Training\", len(X_train), len(Y_train))\n",
    "print(\"Testing\", len(X_test), len(Y_test))"
   ]
  },
  {
   "cell_type": "code",
   "execution_count": 65,
   "id": "1d74df1a",
   "metadata": {},
   "outputs": [
    {
     "name": "stdout",
     "output_type": "stream",
     "text": [
      "Training 5000 5000\n",
      "Testing 5000 5000\n"
     ]
    }
   ],
   "source": [
    "trs = np.int64(len(df)* 50/100)\n",
    "\n",
    "X_train, Y_train = x[:trs], Y[:trs]\n",
    "X_test, Y_test = x[trs:], Y[trs:]\n",
    "\n",
    "print(\"Training\", len(X_train), len(Y_train))\n",
    "print(\"Testing\", len(X_test), len(Y_test))"
   ]
  },
  {
   "cell_type": "markdown",
   "id": "e9ac0783",
   "metadata": {},
   "source": [
    "# Use Skitlearn pre-define fucntion for spliting data into train and test\n"
   ]
  },
  {
   "cell_type": "code",
   "execution_count": 66,
   "id": "4411356f",
   "metadata": {},
   "outputs": [
    {
     "name": "stdout",
     "output_type": "stream",
     "text": [
      "10000\n",
      "10000\n"
     ]
    }
   ],
   "source": [
    "print(len(x))\n",
    "print(len(Y))"
   ]
  },
  {
   "cell_type": "code",
   "execution_count": 52,
   "id": "0e0f3e15",
   "metadata": {},
   "outputs": [],
   "source": [
    "from sklearn.model_selection import train_test_split"
   ]
  },
  {
   "cell_type": "code",
   "execution_count": 67,
   "id": "eeafc919",
   "metadata": {},
   "outputs": [
    {
     "name": "stdout",
     "output_type": "stream",
     "text": [
      "Training 9000 9000\n",
      "Testing 1000 1000\n"
     ]
    }
   ],
   "source": [
    "X_train, X_test, Y_train, Y_test = train_test_split(x, Y, train_size=0.9)\n",
    "\n",
    "print(\"Training\", len(X_train), len(Y_train))\n",
    "print(\"Testing\", len(X_test), len(Y_test))"
   ]
  },
  {
   "cell_type": "markdown",
   "id": "ba7fc5d9",
   "metadata": {},
   "source": [
    "# Create ML model with SKlearn\n"
   ]
  },
  {
   "cell_type": "code",
   "execution_count": 68,
   "id": "869e9540",
   "metadata": {},
   "outputs": [],
   "source": [
    "from sklearn.linear_model import LinearRegression"
   ]
  },
  {
   "cell_type": "code",
   "execution_count": 69,
   "id": "7101bd83",
   "metadata": {},
   "outputs": [],
   "source": [
    "reg = LinearRegression() "
   ]
  },
  {
   "cell_type": "markdown",
   "id": "53350655",
   "metadata": {},
   "source": [
    "# Training on Training data with input and output data\n"
   ]
  },
  {
   "cell_type": "code",
   "execution_count": 71,
   "id": "f42edbd1",
   "metadata": {},
   "outputs": [
    {
     "data": {
      "text/html": [
       "<style>#sk-container-id-1 {color: black;background-color: white;}#sk-container-id-1 pre{padding: 0;}#sk-container-id-1 div.sk-toggleable {background-color: white;}#sk-container-id-1 label.sk-toggleable__label {cursor: pointer;display: block;width: 100%;margin-bottom: 0;padding: 0.3em;box-sizing: border-box;text-align: center;}#sk-container-id-1 label.sk-toggleable__label-arrow:before {content: \"▸\";float: left;margin-right: 0.25em;color: #696969;}#sk-container-id-1 label.sk-toggleable__label-arrow:hover:before {color: black;}#sk-container-id-1 div.sk-estimator:hover label.sk-toggleable__label-arrow:before {color: black;}#sk-container-id-1 div.sk-toggleable__content {max-height: 0;max-width: 0;overflow: hidden;text-align: left;background-color: #f0f8ff;}#sk-container-id-1 div.sk-toggleable__content pre {margin: 0.2em;color: black;border-radius: 0.25em;background-color: #f0f8ff;}#sk-container-id-1 input.sk-toggleable__control:checked~div.sk-toggleable__content {max-height: 200px;max-width: 100%;overflow: auto;}#sk-container-id-1 input.sk-toggleable__control:checked~label.sk-toggleable__label-arrow:before {content: \"▾\";}#sk-container-id-1 div.sk-estimator input.sk-toggleable__control:checked~label.sk-toggleable__label {background-color: #d4ebff;}#sk-container-id-1 div.sk-label input.sk-toggleable__control:checked~label.sk-toggleable__label {background-color: #d4ebff;}#sk-container-id-1 input.sk-hidden--visually {border: 0;clip: rect(1px 1px 1px 1px);clip: rect(1px, 1px, 1px, 1px);height: 1px;margin: -1px;overflow: hidden;padding: 0;position: absolute;width: 1px;}#sk-container-id-1 div.sk-estimator {font-family: monospace;background-color: #f0f8ff;border: 1px dotted black;border-radius: 0.25em;box-sizing: border-box;margin-bottom: 0.5em;}#sk-container-id-1 div.sk-estimator:hover {background-color: #d4ebff;}#sk-container-id-1 div.sk-parallel-item::after {content: \"\";width: 100%;border-bottom: 1px solid gray;flex-grow: 1;}#sk-container-id-1 div.sk-label:hover label.sk-toggleable__label {background-color: #d4ebff;}#sk-container-id-1 div.sk-serial::before {content: \"\";position: absolute;border-left: 1px solid gray;box-sizing: border-box;top: 0;bottom: 0;left: 50%;z-index: 0;}#sk-container-id-1 div.sk-serial {display: flex;flex-direction: column;align-items: center;background-color: white;padding-right: 0.2em;padding-left: 0.2em;position: relative;}#sk-container-id-1 div.sk-item {position: relative;z-index: 1;}#sk-container-id-1 div.sk-parallel {display: flex;align-items: stretch;justify-content: center;background-color: white;position: relative;}#sk-container-id-1 div.sk-item::before, #sk-container-id-1 div.sk-parallel-item::before {content: \"\";position: absolute;border-left: 1px solid gray;box-sizing: border-box;top: 0;bottom: 0;left: 50%;z-index: -1;}#sk-container-id-1 div.sk-parallel-item {display: flex;flex-direction: column;z-index: 1;position: relative;background-color: white;}#sk-container-id-1 div.sk-parallel-item:first-child::after {align-self: flex-end;width: 50%;}#sk-container-id-1 div.sk-parallel-item:last-child::after {align-self: flex-start;width: 50%;}#sk-container-id-1 div.sk-parallel-item:only-child::after {width: 0;}#sk-container-id-1 div.sk-dashed-wrapped {border: 1px dashed gray;margin: 0 0.4em 0.5em 0.4em;box-sizing: border-box;padding-bottom: 0.4em;background-color: white;}#sk-container-id-1 div.sk-label label {font-family: monospace;font-weight: bold;display: inline-block;line-height: 1.2em;}#sk-container-id-1 div.sk-label-container {text-align: center;}#sk-container-id-1 div.sk-container {/* jupyter's `normalize.less` sets `[hidden] { display: none; }` but bootstrap.min.css set `[hidden] { display: none !important; }` so we also need the `!important` here to be able to override the default hidden behavior on the sphinx rendered scikit-learn.org. See: https://github.com/scikit-learn/scikit-learn/issues/21755 */display: inline-block !important;position: relative;}#sk-container-id-1 div.sk-text-repr-fallback {display: none;}</style><div id=\"sk-container-id-1\" class=\"sk-top-container\"><div class=\"sk-text-repr-fallback\"><pre>LinearRegression()</pre><b>In a Jupyter environment, please rerun this cell to show the HTML representation or trust the notebook. <br />On GitHub, the HTML representation is unable to render, please try loading this page with nbviewer.org.</b></div><div class=\"sk-container\" hidden><div class=\"sk-item\"><div class=\"sk-estimator sk-toggleable\"><input class=\"sk-toggleable__control sk-hidden--visually\" id=\"sk-estimator-id-1\" type=\"checkbox\" checked><label for=\"sk-estimator-id-1\" class=\"sk-toggleable__label sk-toggleable__label-arrow\">LinearRegression</label><div class=\"sk-toggleable__content\"><pre>LinearRegression()</pre></div></div></div></div></div>"
      ],
      "text/plain": [
       "LinearRegression()"
      ]
     },
     "execution_count": 71,
     "metadata": {},
     "output_type": "execute_result"
    }
   ],
   "source": [
    "reg.fit(X_train, Y_train)"
   ]
  },
  {
   "cell_type": "markdown",
   "id": "373521ea",
   "metadata": {},
   "source": [
    "# predict on unseen data"
   ]
  },
  {
   "cell_type": "code",
   "execution_count": 84,
   "id": "1d27f7f9",
   "metadata": {},
   "outputs": [
    {
     "name": "stdout",
     "output_type": "stream",
     "text": [
      "1000\n"
     ]
    },
    {
     "data": {
      "text/plain": [
       "array([192.41652892, 137.33687273, 147.98906172, 143.25371605,\n",
       "       128.99949807, 173.09840904, 136.59081886, 212.27081814,\n",
       "       128.15155306, 179.97839752, 136.24775483, 161.57578617,\n",
       "       167.19299047, 170.81302685, 186.15752517, 204.6580294 ,\n",
       "       218.89934674, 189.07432478, 182.72694746, 118.51688349,\n",
       "       128.85862608, 164.33167864, 164.67424833, 175.21341248,\n",
       "       137.86505856,  96.05134905, 203.98587696, 139.83636416,\n",
       "       155.22014989, 118.51952167, 138.36285147, 176.81648307,\n",
       "       134.58246698, 152.96003349, 160.48439347, 164.69987172,\n",
       "       152.62203224, 167.12643601, 144.86700507, 123.87916861,\n",
       "       160.81092781, 114.23897712, 145.24399605, 141.00495949,\n",
       "       162.74900222, 169.58009212, 178.77495436, 176.3641674 ,\n",
       "       110.81184434, 139.88272947, 205.49895823, 194.46638978,\n",
       "       155.08301137, 183.51720323, 145.76705413, 128.19828064,\n",
       "       220.78006938, 161.47784889, 216.28852154, 150.75183381,\n",
       "       161.42639878, 150.74010626, 139.05607831, 148.17893557,\n",
       "       153.54373907, 186.09924616, 189.81963737, 133.57576882,\n",
       "       192.80195795, 169.60635496, 117.1088645 , 176.6922772 ,\n",
       "       184.02791248, 159.19847264, 173.26412765, 138.73880144,\n",
       "       146.71328749, 119.5968328 , 203.73331963, 170.09908033,\n",
       "       110.61591053, 130.83060199, 179.17935673, 137.07157539,\n",
       "       211.27574309, 120.65896654, 154.36014524, 175.3472895 ,\n",
       "       107.0666203 , 114.21298891, 168.04840737, 175.38346147,\n",
       "       174.91459601, 158.6090616 , 122.40334118, 208.60132725,\n",
       "       235.24044671, 170.30341383, 178.69243683, 159.4812322 ,\n",
       "       143.81153391, 156.91211065,  91.04345811, 105.46129397,\n",
       "       172.30896495, 127.38268961, 154.96573779, 127.16621112,\n",
       "       129.58485524, 167.65849035, 178.02326381, 186.09776804,\n",
       "       186.09838573, 177.27072753, 169.70365141, 139.29643737,\n",
       "       160.19381384, 151.74688957, 203.76192127, 159.83243727,\n",
       "       210.18557736, 161.09202143, 151.36257705, 112.2240692 ,\n",
       "       189.78024777, 196.91248953, 130.83671851, 123.2510118 ,\n",
       "       158.30471477, 180.70088335, 196.57685059, 186.01992811,\n",
       "       119.29958774, 162.6784483 , 161.35553289, 121.81698481,\n",
       "       171.85591989, 111.20988455, 176.86431788, 219.0542084 ,\n",
       "       197.73182896, 145.34671047, 178.75189795, 144.81012298,\n",
       "       149.27681502, 126.24796976, 156.19233358, 162.44739861,\n",
       "       125.20431868, 235.22190706, 135.71599562, 144.6730876 ,\n",
       "       213.33018469, 168.69720608, 163.46126588, 178.25120374,\n",
       "       182.70124814, 143.83188992, 140.34381742, 177.35188723,\n",
       "       188.80749648, 113.609528  , 120.60014512, 170.84892441,\n",
       "       204.60123914, 142.84802233, 153.38436122, 177.44491315,\n",
       "       193.71209123, 192.66296971, 122.32195153, 159.7623271 ,\n",
       "       159.43598324, 193.08183341, 124.70620018, 199.924605  ,\n",
       "       152.63905407, 133.96378003, 121.59093273, 159.68726184,\n",
       "       207.6175668 , 191.21083168, 128.23441607, 118.3127769 ,\n",
       "       200.25108039, 139.88798674, 150.01034477, 129.31525381,\n",
       "       165.36537298, 207.59843064, 170.250343  , 139.72871104,\n",
       "       220.75868934, 127.21167655, 125.2435684 , 206.59982977,\n",
       "       133.03690363, 210.18839471, 147.42975604, 143.65319649,\n",
       "       152.45763838, 166.06209437, 176.53354912, 207.22190426,\n",
       "       188.9880197 , 200.35190465, 177.52866191, 179.80120487,\n",
       "       142.13872498, 149.39979047, 172.22915775, 176.84996259,\n",
       "       161.78584679, 146.17805825,  98.58785878, 160.06450318,\n",
       "       182.1048338 , 123.95745834, 141.8142795 , 149.00569826,\n",
       "       154.9799112 , 104.67184967, 199.43628916, 182.33309012,\n",
       "       183.35174075, 183.65685519, 157.03017546, 147.05190915,\n",
       "       185.04108515, 158.09926959, 127.75360465, 188.34986341,\n",
       "       179.68739806, 177.26751096, 223.80659062, 166.66901578,\n",
       "       193.12868401, 158.07582283, 179.95896068, 181.84611271,\n",
       "       153.86934083, 201.59303697, 191.1341808 , 208.1093432 ,\n",
       "       139.69245321, 183.15166209,  82.83139543, 120.83729111,\n",
       "       194.80284477, 142.14382509, 133.08382904, 159.87927534,\n",
       "       201.85476026, 139.12093826, 202.54923155, 145.1753193 ,\n",
       "       132.1281665 , 148.2598163 , 218.2197422 , 161.30321554,\n",
       "       171.73631142, 154.55770669, 175.49406165, 169.54728604,\n",
       "       187.4345503 , 166.8316901 , 130.71067111, 153.89982223,\n",
       "       145.2800746 , 190.2486287 , 169.73144752, 189.37359182,\n",
       "       170.28542876, 211.2830261 , 140.09463517, 180.48423264,\n",
       "       217.03889312, 187.34583301, 202.01974202, 169.67677233,\n",
       "       206.16968669, 139.26535786, 151.84648809, 162.71311023,\n",
       "       187.12337163, 132.83405854, 159.55028858, 135.90605982,\n",
       "       208.67779854, 168.99839663, 191.9029601 , 105.02079997,\n",
       "       210.17109271, 179.18015544, 160.87227949, 148.25499611,\n",
       "       153.772377  , 213.98194457, 167.18392633, 175.79412608,\n",
       "       136.82136155, 165.02363444, 181.06390925, 183.31678802,\n",
       "        99.85652935, 138.73446456, 208.14516638, 189.73672327,\n",
       "        94.45019616, 163.69368315, 131.89944267, 135.08451262,\n",
       "       131.76774949, 223.78892939, 122.39457549, 120.91204929,\n",
       "       143.88723062, 124.46979131, 147.72210508, 150.89691102,\n",
       "       150.82173701, 113.61600944, 157.17923305, 104.88338623,\n",
       "       121.53872605, 177.24295938, 146.30208181, 203.93067374,\n",
       "       126.15153806, 130.45848455,  99.79978414, 119.89291015,\n",
       "       167.20971919, 192.97980753, 170.51370249, 135.45358336,\n",
       "       172.49650984, 145.81563114, 155.90310591, 152.75100219,\n",
       "       147.53395633, 121.75246179, 175.25623364, 128.76438472,\n",
       "       128.85520315, 145.7870927 ,  95.14080456, 129.26429417,\n",
       "       206.39929585, 129.19221617, 171.47934935, 167.40725035,\n",
       "       148.00816678, 133.53323149, 225.25176293, 167.78145153,\n",
       "       181.57644859, 197.55188204, 180.63394013, 153.22088611,\n",
       "       147.84142727, 210.56534471, 246.94262548, 150.09610668,\n",
       "       155.74445804, 206.98212908, 116.96951917, 211.9478863 ,\n",
       "       144.11842572, 187.52849473, 193.60937653, 145.39480559,\n",
       "       128.523404  , 168.93777887, 174.52206563, 131.9107225 ,\n",
       "       169.81720194, 194.16689934, 112.67802598, 138.01825592,\n",
       "       208.38459441, 159.85766324,  82.29931284, 169.84514965,\n",
       "       131.93606272, 212.82967844, 181.60109596, 134.76819472,\n",
       "       158.63459248, 132.63578122, 127.6199518 , 155.49990506,\n",
       "       157.89124539, 124.4559791 , 177.53507991, 156.98099166,\n",
       "       192.81345124, 133.65480606, 125.90727432, 169.58406931,\n",
       "       133.19135423, 117.19402029, 190.99011368, 187.33153767,\n",
       "       149.57384361, 180.4542741 , 168.81995806, 144.14669645,\n",
       "       148.23847009, 140.10686717, 169.08174028, 142.98748945,\n",
       "       201.42040065, 127.6152455 , 185.14408487, 187.05518289,\n",
       "       109.3476134 , 158.58021555, 150.46287299, 157.40082185,\n",
       "       201.19912526, 137.40044586, 172.22378467, 169.88273863,\n",
       "       198.36280024, 175.19116377, 157.26794481, 148.76306333,\n",
       "       163.93049053, 127.89024789, 198.832239  , 125.75371123,\n",
       "       142.32909645, 133.00417023, 169.52450134, 152.73717654,\n",
       "       223.3305751 , 147.09062856, 183.59725844, 192.7862042 ,\n",
       "       145.44507147, 187.11883293, 156.22921382, 176.16500539,\n",
       "       114.12519575, 118.9465967 , 204.38017758, 241.86304375,\n",
       "       158.08178213, 198.3140339 , 139.06973648, 182.89192284,\n",
       "       121.74769957, 140.23793236, 143.14908947, 174.58180676,\n",
       "       117.83147848, 181.6547571 , 153.11954883, 127.08401837,\n",
       "       160.09361652, 146.82547978, 178.55613528, 130.12241525,\n",
       "       169.3395407 , 146.10497887, 112.470631  , 207.52908897,\n",
       "       132.73786243, 163.04605316, 155.71351844, 143.48226538,\n",
       "       120.67188031, 118.30510322, 148.21353078, 148.93487501,\n",
       "       161.46850361, 126.57996493, 150.95845327, 163.02579624,\n",
       "       169.77105876, 175.28674542, 197.39657614, 180.1547933 ,\n",
       "       193.07118312, 164.22035586, 146.67647142, 155.05393327,\n",
       "       158.00139194, 159.84298327, 102.89882301, 197.39134093,\n",
       "       128.65761895, 151.20837211, 133.14080791, 132.74485329,\n",
       "       107.25598168, 211.41038307, 116.09137728, 139.97741892,\n",
       "       124.42984595, 142.45372065, 201.67181781, 162.86407022,\n",
       "       119.37588709, 211.76820563, 157.82081497, 166.55162134,\n",
       "       177.05172148, 154.40323187, 123.48228438, 143.29052569,\n",
       "       196.87320234, 154.81038424, 150.5140038 , 214.85971535,\n",
       "       168.27252282, 156.01977971, 144.66010566, 144.13047041,\n",
       "       163.99230997, 142.20988724, 115.8459138 , 127.74941236,\n",
       "       183.54477181, 162.35835197, 167.62891813,  89.20495375,\n",
       "       121.96338141, 169.33142952, 136.41890945, 169.11483243,\n",
       "       147.36356011, 199.30926098, 181.83761518, 192.506899  ,\n",
       "       203.20976773, 109.80293926, 144.50587775, 149.88855455,\n",
       "       108.53391797, 127.27152518, 171.19686108, 185.39083585,\n",
       "       142.28311104, 130.24950613, 154.96573491, 150.5984256 ,\n",
       "       138.55708125, 168.37454046, 190.11431444, 142.20230681,\n",
       "       174.74824283, 127.65800013, 182.40417227, 208.24105309,\n",
       "       216.8662315 , 174.72316262, 209.1758801 , 206.58221574,\n",
       "       207.01973297, 170.83868859, 169.26171188, 209.58115034,\n",
       "       115.29404161, 166.39534802, 210.13360888, 152.84546419,\n",
       "       189.91603934, 152.74723861, 192.51761231, 211.23486394,\n",
       "       152.02267726, 199.06794068, 193.92279797, 185.42400248,\n",
       "       190.5885448 , 153.99616369, 163.53285049, 187.50501926,\n",
       "       171.67305455, 188.56797678, 146.00464657, 152.27198545,\n",
       "       167.99777249, 147.00325509, 130.76753011, 148.85441499,\n",
       "       159.0949427 , 104.02628428, 133.16922985, 177.71986534,\n",
       "       171.04761733, 176.12858419, 161.09996668, 136.16409762,\n",
       "       174.0516323 , 185.44595244,  95.31041167, 147.1969479 ,\n",
       "       145.09150991,  82.05575018, 160.83464549, 178.48653627,\n",
       "       181.6219572 , 210.34667734, 176.50629985, 161.72871915,\n",
       "       141.0337183 , 149.52411407, 111.729119  , 229.3683965 ,\n",
       "       142.89247129, 169.72818364, 188.0576208 , 161.86506765,\n",
       "       218.68983017, 134.57413118, 132.51552716, 148.26627462,\n",
       "       178.55734251, 166.12293346, 174.01165679, 189.2780577 ,\n",
       "       113.12348923, 118.79533997, 173.29790326, 162.22743063,\n",
       "       159.9173921 , 208.98427433, 232.0839748 , 111.42892452,\n",
       "       174.50266619, 193.41294519, 183.59575734, 197.98708118,\n",
       "       150.14943345, 134.10417434, 167.4664422 , 142.14523399,\n",
       "       179.77744285, 130.82453605, 162.24288245, 101.54972721,\n",
       "       153.72217914, 132.97869419, 153.34829495, 165.05905648,\n",
       "       172.34661672, 157.35200068, 182.80847859, 141.28262155,\n",
       "       186.94462769, 165.01371816, 125.0698734 , 114.83325947,\n",
       "       142.15907799, 183.47843178, 178.5581443 , 132.65406763,\n",
       "       117.65098565,  90.11482919, 168.03610008, 159.96833528,\n",
       "       119.40090366, 147.26728199, 115.78920708, 224.2295348 ,\n",
       "       192.33490666, 149.41605371, 147.796034  , 146.55546209,\n",
       "       172.28860114, 175.26523845, 152.01091196, 102.95867723,\n",
       "       152.57913891, 141.46243659, 114.8352373 , 161.55672884,\n",
       "       165.33215346, 176.14728542, 135.04348835, 173.767176  ,\n",
       "       202.46958117, 188.64091848, 150.0766547 , 144.47882704,\n",
       "       113.36448351, 207.6281296 , 146.50005998, 162.58241346,\n",
       "       195.48588214, 177.9225999 , 166.90194399, 139.68126339,\n",
       "       216.95639618, 206.19368564, 130.55839734, 161.82706547,\n",
       "       138.75280656, 166.17459071, 162.36345926, 167.67236947,\n",
       "       189.28154472, 127.8063881 , 136.95995462, 167.35523624,\n",
       "       192.09611165, 149.61009587, 206.15913618, 194.01789008,\n",
       "       161.58141193, 161.82359309, 178.40605823, 205.31189794,\n",
       "       152.97443933, 187.74962226, 141.67607746, 203.41137276,\n",
       "       182.36637371, 204.17373767, 167.0914067 , 194.37659597,\n",
       "       122.02310591, 167.19477686, 113.32055962, 158.04230844,\n",
       "       169.42795163, 168.07963958, 138.11448857, 176.00492376,\n",
       "       142.09365381, 205.54855433, 193.31595209, 137.470633  ,\n",
       "       172.0397036 , 193.15696985, 131.44850782, 179.3147228 ,\n",
       "       138.71585045, 177.98958498, 156.27003746, 180.13555837,\n",
       "       147.41535669, 187.11859529, 117.15624673, 141.63473677,\n",
       "       157.48727034,  87.25768796, 118.60361097, 221.01727205,\n",
       "       150.49414778, 204.03503709, 168.58431203, 157.28074222,\n",
       "       173.16085089, 136.18654841, 189.64882496, 183.44838993,\n",
       "       198.52885651, 167.10697504, 207.42944564, 178.10008208,\n",
       "       145.38275196, 139.81544986, 180.52797074, 172.23852208,\n",
       "       160.39839555, 136.5557266 , 123.2117905 , 146.78423389,\n",
       "       195.61586466, 134.63635423, 194.26116374, 173.25507399,\n",
       "       132.54313748, 201.34411882, 168.381859  , 129.11304568,\n",
       "       188.87594643, 195.94852162, 184.43549795, 169.73096864,\n",
       "       148.5736481 , 179.48416032, 182.92114037, 164.86845498,\n",
       "       154.217097  , 197.74004276, 122.73312285, 218.61238227,\n",
       "       142.28228033, 175.10519947, 207.66001309, 120.2077912 ,\n",
       "       156.26487086, 120.98512521, 181.67875899, 186.14967194,\n",
       "       164.90871322, 172.77081543, 239.16796775, 139.89622229,\n",
       "       193.86216135, 198.01318519,  78.85998494, 162.56559425,\n",
       "       194.94573214, 180.01797739, 159.0797034 , 128.28624733,\n",
       "       151.49228234, 113.43402506, 203.14854351, 148.71154045,\n",
       "       121.43625119, 220.02549561, 219.02076343, 171.54122392,\n",
       "       155.63421852, 176.4135457 , 143.74375287, 155.08719528,\n",
       "       186.9679609 , 157.91967822, 180.39716386, 175.00982749,\n",
       "       170.65530114, 129.26834749, 110.7207332 , 137.16556141,\n",
       "       122.77464921, 206.36155788, 118.39932553, 194.76068651,\n",
       "       178.83499963, 138.99450891, 120.92488473, 205.31517553,\n",
       "       140.52924862, 132.6521081 , 149.28041437, 161.87843759,\n",
       "       125.50591263, 206.07944698, 205.50780815, 175.01075483,\n",
       "       117.00225241, 197.17615525, 156.65225168, 186.75896728,\n",
       "       184.6529183 , 134.45760573, 174.96762874, 188.33566191,\n",
       "       144.52820563, 150.04248008, 168.78117743, 112.35247194,\n",
       "       175.30854565, 135.22966802, 196.21080275, 129.69485423,\n",
       "       109.29055042, 178.1200253 , 123.08694664, 150.93235459,\n",
       "       138.54569661, 151.76792054, 192.7227469 , 139.64165704,\n",
       "       220.17441108, 188.50678256, 142.54266937, 167.41511257,\n",
       "       213.27712492, 189.56788117, 178.56087537, 129.1567592 ,\n",
       "       151.49147304, 141.17754587, 204.84776747, 100.08840528,\n",
       "       133.38789073, 136.85335397, 157.19857981, 134.17711112,\n",
       "       161.69556231, 115.76157765, 162.26046044, 199.05412122,\n",
       "       146.91490905, 118.80164503, 159.91722718, 209.68731253,\n",
       "       169.48494627, 155.53833742, 137.15173708, 141.69418791,\n",
       "       165.80160032, 203.72361799, 150.18573058, 131.64959616,\n",
       "       149.9615686 , 143.45883038, 209.43356628, 142.22192947,\n",
       "       190.22500794, 201.8121516 , 217.39913709, 173.69718156,\n",
       "       179.31530512, 214.68695382, 150.05968931, 184.47736226,\n",
       "       165.34107996, 156.75546779, 123.53877864, 126.44521186,\n",
       "       181.17845304, 176.21385183, 126.4338831 , 168.08340722,\n",
       "       159.39645559, 155.23794707, 185.10518487, 186.99411877,\n",
       "       197.1379538 , 169.59561762, 187.92498663, 188.60179489,\n",
       "       174.6921736 , 192.89752606, 105.03993474, 155.4724148 ,\n",
       "       180.51877859, 116.5447039 , 203.14131166, 200.64172425,\n",
       "       195.98548941, 167.81315461, 183.99248024, 163.67771835,\n",
       "       175.2047613 , 141.9888404 , 148.63083714, 117.5992783 ,\n",
       "       187.6014391 , 196.79156073, 186.91036915, 186.98621677,\n",
       "       137.1305925 , 185.75060299, 143.88409788, 179.40155681,\n",
       "       215.14714146, 152.29131396, 149.21133482, 163.29226292,\n",
       "       122.9051133 , 120.718956  , 186.36646569, 139.37804932,\n",
       "       159.35025531, 145.93004321, 144.68488602, 203.34051883,\n",
       "       144.71218113, 151.17572323, 183.61361941,  97.62414986,\n",
       "       191.57576248, 173.09760584, 112.20170175, 152.52048151,\n",
       "       173.76128426, 165.78579897, 148.9124654 , 169.65786441,\n",
       "       169.99832235, 184.5122623 , 192.16198576, 178.51690661,\n",
       "       191.6319327 , 161.99705323, 176.96036022, 165.44037475,\n",
       "       198.05341869, 170.66164906, 258.75630553, 174.95280998,\n",
       "       168.35675547, 160.53723903, 158.18518167, 141.1404907 ,\n",
       "       123.05711385, 142.26989363, 145.97836712, 152.53496258])"
      ]
     },
     "execution_count": 84,
     "metadata": {},
     "output_type": "execute_result"
    }
   ],
   "source": [
    "y_predict = reg.predict(X_test)\n",
    "print(len(y_predict))\n",
    "y_predict"
   ]
  },
  {
   "cell_type": "code",
   "execution_count": 85,
   "id": "fea9942f",
   "metadata": {},
   "outputs": [
    {
     "name": "stdout",
     "output_type": "stream",
     "text": [
      "[[70.38920071]\n",
      " [63.24099163]\n",
      " [64.62342716]\n",
      " [64.00887647]\n",
      " [62.15897149]]\n",
      "\n",
      "[192.41652892 137.33687273 147.98906172 143.25371605 128.99949807]\n",
      "\n",
      "[178.85134834 139.12744931 138.05615713 154.05142979 121.63112153]\n"
     ]
    }
   ],
   "source": [
    "print(X_test[:5])\n",
    "print()\n",
    "print(y_predict[:5])# 10 predictions\n",
    "print()\n",
    "print(Y_test[:5]) # 10 actual"
   ]
  },
  {
   "cell_type": "code",
   "execution_count": 86,
   "id": "4e6e6108",
   "metadata": {},
   "outputs": [
    {
     "name": "stdout",
     "output_type": "stream",
     "text": [
      "Test sample 0 [70.38920071]\n",
      "Actual 178.851348335504\n",
      "Prediction 192.4165289202889\n"
     ]
    }
   ],
   "source": [
    "print(\"Test sample 0\", X_test[0])\n",
    "print(\"Actual\",Y_test[0])\n",
    "print(\"Prediction\",y_predict[0])"
   ]
  },
  {
   "cell_type": "code",
   "execution_count": 99,
   "id": "f090d4a9",
   "metadata": {},
   "outputs": [
    {
     "data": {
      "image/png": "[encoded data removed]",
      "text/plain": [
       "<Figure size 640x480 with 1 Axes>"
      ]
     },
     "metadata": {},
     "output_type": "display_data"
    }
   ],
   "source": [
    "# import matplotlib.pyplot as plt\n",
    "# df.plot(kind='scatter',\n",
    "#         x = \"Height\",\n",
    "#         y = \"Weight\",\n",
    "#         title = \"Weight and Height\")\n",
    "# plt.plot(X_test, y_predict, color = \"red\", linewidth= 2)\n",
    "# plt.show()\n",
    "\n",
    "run_height =70\n",
    "\n",
    "df.plot(kind='scatter',\n",
    "        x = \"Height\",\n",
    "        y = \"Weight\",\n",
    "        title = \"Weight and Height\")\n",
    "plt.plot(X_test, y_predict, color = \"red\", linewidth= 2)\n",
    "\n",
    "plt.scatter(x=X_test,\n",
    "           y =reg.predict(X_test),\n",
    "           color = \"orange\")\n",
    "plt.show()\n"
   ]
  },
  {
   "cell_type": "code",
   "execution_count": 102,
   "id": "901649da",
   "metadata": {},
   "outputs": [
    {
     "data": {
      "text/plain": [
       "array([7.70537845])"
      ]
     },
     "execution_count": 102,
     "metadata": {},
     "output_type": "execute_result"
    }
   ],
   "source": [
    "reg.coef_ # W values"
   ]
  },
  {
   "cell_type": "code",
   "execution_count": 103,
   "id": "a6abcee3",
   "metadata": {},
   "outputs": [
    {
     "data": {
      "text/plain": [
       "-349.958901294828"
      ]
     },
     "execution_count": 103,
     "metadata": {},
     "output_type": "execute_result"
    }
   ],
   "source": [
    "reg.intercept_ # b"
   ]
  },
  {
   "cell_type": "code",
   "execution_count": 104,
   "id": "66671534",
   "metadata": {},
   "outputs": [
    {
     "data": {
      "text/plain": [
       "{'copy_X': True, 'fit_intercept': True, 'n_jobs': None, 'positive': False}"
      ]
     },
     "execution_count": 104,
     "metadata": {},
     "output_type": "execute_result"
    }
   ],
   "source": [
    "reg.get_params()"
   ]
  },
  {
   "cell_type": "code",
   "execution_count": 105,
   "id": "d4469b76",
   "metadata": {},
   "outputs": [
    {
     "data": {
      "text/plain": [
       "0.8620818929052653"
      ]
     },
     "execution_count": 105,
     "metadata": {},
     "output_type": "execute_result"
    }
   ],
   "source": [
    "reg.score(X_test, Y_test)\n"
   ]
  },
  {
   "cell_type": "code",
   "execution_count": 107,
   "id": "c2d9a3a3",
   "metadata": {},
   "outputs": [
    {
     "ename": "ImportError",
     "evalue": "\n`load_boston` has been removed from scikit-learn since version 1.2.\n\nThe Boston housing prices dataset has an ethical problem: as\ninvestigated in [1], the authors of this dataset engineered a\nnon-invertible variable \"B\" assuming that racial self-segregation had a\npositive impact on house prices [2]. Furthermore the goal of the\nresearch that led to the creation of this dataset was to study the\nimpact of air quality but it did not give adequate demonstration of the\nvalidity of this assumption.\n\nThe scikit-learn maintainers therefore strongly discourage the use of\nthis dataset unless the purpose of the code is to study and educate\nabout ethical issues in data science and machine learning.\n\nIn this special case, you can fetch the dataset from the original\nsource::\n\n    import pandas as pd\n    import numpy as np\n\n    data_url = \"http://lib.stat.cmu.edu/datasets/boston\"\n    raw_df = pd.read_csv(data_url, sep=\"\\s+\", skiprows=22, header=None)\n    data = np.hstack([raw_df.values[::2, :], raw_df.values[1::2, :2]])\n    target = raw_df.values[1::2, 2]\n\nAlternative datasets include the California housing dataset and the\nAmes housing dataset. You can load the datasets as follows::\n\n    from sklearn.datasets import fetch_california_housing\n    housing = fetch_california_housing()\n\nfor the California housing dataset and::\n\n    from sklearn.datasets import fetch_openml\n    housing = fetch_openml(name=\"house_prices\", as_frame=True)\n\nfor the Ames housing dataset.\n\n[1] M Carlisle.\n\"Racist data destruction?\"\n<https://medium.com/@docintangible/racist-data-destruction-113e3eff54a8>\n\n[2] Harrison Jr, David, and Daniel L. Rubinfeld.\n\"Hedonic housing prices and the demand for clean air.\"\nJournal of environmental economics and management 5.1 (1978): 81-102.\n<https://www.researchgate.net/publication/4974606_Hedonic_housing_prices_and_the_demand_for_clean_air>\n",
     "output_type": "error",
     "traceback": [
      "\u001b[1;31m---------------------------------------------------------------------------\u001b[0m",
      "\u001b[1;31mImportError\u001b[0m                               Traceback (most recent call last)",
      "\u001b[1;32m~\\AppData\\Local\\Temp\\ipykernel_10032\\2305181818.py\u001b[0m in \u001b[0;36m<module>\u001b[1;34m\u001b[0m\n\u001b[1;32m----> 1\u001b[1;33m \u001b[1;32mfrom\u001b[0m \u001b[0msklearn\u001b[0m\u001b[1;33m.\u001b[0m\u001b[0mdatasets\u001b[0m \u001b[1;32mimport\u001b[0m \u001b[0mload_boston\u001b[0m\u001b[1;33m\u001b[0m\u001b[1;33m\u001b[0m\u001b[0m\n\u001b[0m",
      "\u001b[1;32mD:\\Anaconda\\lib\\site-packages\\sklearn\\datasets\\__init__.py\u001b[0m in \u001b[0;36m__getattr__\u001b[1;34m(name)\u001b[0m\n\u001b[0;32m    154\u001b[0m             \"\"\"\n\u001b[0;32m    155\u001b[0m         )\n\u001b[1;32m--> 156\u001b[1;33m         \u001b[1;32mraise\u001b[0m \u001b[0mImportError\u001b[0m\u001b[1;33m(\u001b[0m\u001b[0mmsg\u001b[0m\u001b[1;33m)\u001b[0m\u001b[1;33m\u001b[0m\u001b[1;33m\u001b[0m\u001b[0m\n\u001b[0m\u001b[0;32m    157\u001b[0m     \u001b[1;32mtry\u001b[0m\u001b[1;33m:\u001b[0m\u001b[1;33m\u001b[0m\u001b[1;33m\u001b[0m\u001b[0m\n\u001b[0;32m    158\u001b[0m         \u001b[1;32mreturn\u001b[0m \u001b[0mglobals\u001b[0m\u001b[1;33m(\u001b[0m\u001b[1;33m)\u001b[0m\u001b[1;33m[\u001b[0m\u001b[0mname\u001b[0m\u001b[1;33m]\u001b[0m\u001b[1;33m\u001b[0m\u001b[1;33m\u001b[0m\u001b[0m\n",
      "\u001b[1;31mImportError\u001b[0m: \n`load_boston` has been removed from scikit-learn since version 1.2.\n\nThe Boston housing prices dataset has an ethical problem: as\ninvestigated in [1], the authors of this dataset engineered a\nnon-invertible variable \"B\" assuming that racial self-segregation had a\npositive impact on house prices [2]. Furthermore the goal of the\nresearch that led to the creation of this dataset was to study the\nimpact of air quality but it did not give adequate demonstration of the\nvalidity of this assumption.\n\nThe scikit-learn maintainers therefore strongly discourage the use of\nthis dataset unless the purpose of the code is to study and educate\nabout ethical issues in data science and machine learning.\n\nIn this special case, you can fetch the dataset from the original\nsource::\n\n    import pandas as pd\n    import numpy as np\n\n    data_url = \"http://lib.stat.cmu.edu/datasets/boston\"\n    raw_df = pd.read_csv(data_url, sep=\"\\s+\", skiprows=22, header=None)\n    data = np.hstack([raw_df.values[::2, :], raw_df.values[1::2, :2]])\n    target = raw_df.values[1::2, 2]\n\nAlternative datasets include the California housing dataset and the\nAmes housing dataset. You can load the datasets as follows::\n\n    from sklearn.datasets import fetch_california_housing\n    housing = fetch_california_housing()\n\nfor the California housing dataset and::\n\n    from sklearn.datasets import fetch_openml\n    housing = fetch_openml(name=\"house_prices\", as_frame=True)\n\nfor the Ames housing dataset.\n\n[1] M Carlisle.\n\"Racist data destruction?\"\n<https://medium.com/@docintangible/racist-data-destruction-113e3eff54a8>\n\n[2] Harrison Jr, David, and Daniel L. Rubinfeld.\n\"Hedonic housing prices and the demand for clean air.\"\nJournal of environmental economics and management 5.1 (1978): 81-102.\n<https://www.researchgate.net/publication/4974606_Hedonic_housing_prices_and_the_demand_for_clean_air>\n"
     ]
    }
   ],
   "source": [
    "from sklearn.datasets import load_boston"
   ]
  },
  {
   "cell_type": "code",
   "execution_count": 108,
   "id": "9127bc29",
   "metadata": {},
   "outputs": [
    {
     "ename": "NameError",
     "evalue": "name 'load_boston' is not defined",
     "output_type": "error",
     "traceback": [
      "\u001b[1;31m---------------------------------------------------------------------------\u001b[0m",
      "\u001b[1;31mNameError\u001b[0m                                 Traceback (most recent call last)",
      "\u001b[1;32m~\\AppData\\Local\\Temp\\ipykernel_10032\\1599376775.py\u001b[0m in \u001b[0;36m<module>\u001b[1;34m\u001b[0m\n\u001b[1;32m----> 1\u001b[1;33m \u001b[0mX\u001b[0m\u001b[1;33m,\u001b[0m \u001b[0mY\u001b[0m \u001b[1;33m=\u001b[0m \u001b[0mload_boston\u001b[0m\u001b[1;33m(\u001b[0m\u001b[0mreturn_X_y\u001b[0m\u001b[1;33m=\u001b[0m\u001b[1;32mTrue\u001b[0m\u001b[1;33m)\u001b[0m\u001b[1;33m\u001b[0m\u001b[1;33m\u001b[0m\u001b[0m\n\u001b[0m\u001b[0;32m      2\u001b[0m \u001b[1;33m\u001b[0m\u001b[0m\n\u001b[0;32m      3\u001b[0m \u001b[0mprint\u001b[0m\u001b[1;33m(\u001b[0m\u001b[0mlen\u001b[0m\u001b[1;33m(\u001b[0m\u001b[0mX\u001b[0m\u001b[1;33m)\u001b[0m\u001b[1;33m,\u001b[0m \u001b[0mlen\u001b[0m\u001b[1;33m(\u001b[0m\u001b[0mY\u001b[0m\u001b[1;33m)\u001b[0m\u001b[1;33m)\u001b[0m\u001b[1;33m\u001b[0m\u001b[1;33m\u001b[0m\u001b[0m\n\u001b[0;32m      4\u001b[0m \u001b[0mprint\u001b[0m\u001b[1;33m(\u001b[0m\u001b[0mX\u001b[0m\u001b[1;33m.\u001b[0m\u001b[0mshape\u001b[0m\u001b[1;33m,\u001b[0m \u001b[0mY\u001b[0m\u001b[1;33m.\u001b[0m\u001b[0mshape\u001b[0m\u001b[1;33m)\u001b[0m\u001b[1;33m\u001b[0m\u001b[1;33m\u001b[0m\u001b[0m\n\u001b[0;32m      5\u001b[0m \u001b[0mprint\u001b[0m\u001b[1;33m(\u001b[0m\u001b[1;33m)\u001b[0m\u001b[1;33m\u001b[0m\u001b[1;33m\u001b[0m\u001b[0m\n",
      "\u001b[1;31mNameError\u001b[0m: name 'load_boston' is not defined"
     ]
    }
   ],
   "source": [
    "# X, Y = load_boston(return_X_y=True)\n",
    "\n",
    "# print(len(X), len(Y))\n",
    "# print(X.shape, Y.shape)\n",
    "# print()\n",
    "# print(\"Input\",X[0])\n",
    "# print()\n",
    "# print(\"Output\",Y[0])"
   ]
  },
  {
   "cell_type": "code",
   "execution_count": null,
   "id": "88e350c7",
   "metadata": {},
   "outputs": [],
   "source": []
  }
 ],
 "metadata": {
  "kernelspec": {
   "display_name": "Python 3 (ipykernel)",
   "language": "python",
   "name": "python3"
  },
  "language_info": {
   "codemirror_mode": {
    "name": "ipython",
    "version": 3
   },
   "file_extension": ".py",
   "mimetype": "text/x-python",
   "name": "python",
   "nbconvert_exporter": "python",
   "pygments_lexer": "ipython3",
   "version": "3.9.13"
  }
 },
 "nbformat": 4,
 "nbformat_minor": 5
}

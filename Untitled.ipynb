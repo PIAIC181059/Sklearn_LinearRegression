{
 "cells": [
  {
   "cell_type": "code",
   "execution_count": 2,
   "id": "3633f06a",
   "metadata": {},
   "outputs": [
    {
     "name": "stdout",
     "output_type": "stream",
     "text": [
      "Collecting polars\n",
      "  Downloading polars-0.16.11-cp37-abi3-win_amd64.whl (16.6 MB)\n",
      "     ---------------------------------------- 16.6/16.6 MB 1.1 MB/s eta 0:00:00\n",
      "Requirement already satisfied: typing_extensions>=4.0.1 in d:\\anaconda\\lib\\site-packages (from polars) (4.3.0)\n",
      "Installing collected packages: polars\n",
      "Successfully installed polars-0.16.11\n",
      "Note: you may need to restart the kernel to use updated packages.\n"
     ]
    }
   ],
   "source": [
    "pip install polars\n"
   ]
  },
  {
   "cell_type": "code",
   "execution_count": 1,
   "id": "b244abbc",
   "metadata": {},
   "outputs": [],
   "source": [
    "import polars as pl"
   ]
  },
  {
   "cell_type": "code",
   "execution_count": null,
   "id": "0b238352",
   "metadata": {},
   "outputs": [],
   "source": []
  }
 ],
 "metadata": {
  "kernelspec": {
   "display_name": "Python 3 (ipykernel)",
   "language": "python",
   "name": "python3"
  },
  "language_info": {
   "codemirror_mode": {
    "name": "ipython",
    "version": 3
   },
   "file_extension": ".py",
   "mimetype": "text/x-python",
   "name": "python",
   "nbconvert_exporter": "python",
   "pygments_lexer": "ipython3",
   "version": "3.9.13"
  }
 },
 "nbformat": 4,
 "nbformat_minor": 5
}
